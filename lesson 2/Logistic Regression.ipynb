{
 "metadata": {
  "language_info": {
   "codemirror_mode": {
    "name": "ipython",
    "version": 3
   },
   "file_extension": ".py",
   "mimetype": "text/x-python",
   "name": "python",
   "nbconvert_exporter": "python",
   "pygments_lexer": "ipython3",
   "version": 3
  },
  "orig_nbformat": 2
 },
 "nbformat": 4,
 "nbformat_minor": 2,
 "cells": [
  {
   "cell_type": "code",
   "execution_count": null,
   "metadata": {},
   "outputs": [],
   "source": [
    "import numpy as np\n",
    "import pandas as pd\n",
    "from IPython import display\n",
    "\n",
    "pd.set_option('display.max_columns',500)"
   ]
  },
  {
   "source": [
    "# Gradient Calculation\n",
    "\n",
    "So let's get our hands dirty and actually compute the derivative of the error function. The first thing to notice is that the sigmoid function has a really nice derivative. Namely,\n",
    "\n",
    "$\\sigma'(x)$ = $\\sigma(x)$ (1-$\\sigma(x)$)σ \n",
    "\n",
    "(x)=σ(x)(1−σ(x))\n",
    "\n",
    "The reason for this is the following, we can calculate it using the quotient formula and using the **chain rule**:"
   ],
   "cell_type": "markdown",
   "metadata": {}
  },
  {
   "cell_type": "code",
   "execution_count": null,
   "metadata": {},
   "outputs": [],
   "source": [
    "display.Image('./images/derivative-sigmoid.gif')"
   ]
  },
  {
   "source": [
    "Chain rule says take the derivative of the outer (i.e., $X^{(-1)}$ -> -X) function and multiply that by the derivative of the internal function (i.e., (1+$e^{(-x)}$ -> )\n",
    "\n",
    "And now, let's recall that if we have mm points labelled $x^{(1)}$, $x^{(2)}$, $\\ldots$, $x^{(m)}$,the error formula is:\n",
    "\n",
    "E = $-\\frac{1}{m} \\sum_{i=1}^m \\left( y_i \\ln(\\hat{y_i}) + (1-y_i) \\ln (1-\\hat{y_i}) \\right)$ \n",
    "where the prediction is given by $\\hat{y_i} = \\sigma(Wx^{(i)} + b)$. \n",
    "\n",
    "Our goal is to calculate the gradient of E, at a point $x = (x_1, \\ldots, x_n),$ given by the partial derivatives\n",
    "\n",
    "$\\nabla E$ = given by the partial derivatives\n",
    "\n",
    "$\\nabla E =\\left(\\frac{\\partial}{\\partial w_1}E, \\cdots, \\frac{\\partial}{\\partial w_n}E, \\frac{\\partial}{\\partial b}E \\right)$\n",
    "\n",
    "To simplify our calculations, we'll actually think of the error that each point produces, and calculate the derivative of this error. The total error, then, is the average of the errors at all the points. The error produced by each point is, simply,\n",
    "\n",
    "\n",
    "E =$ - y \\ln(\\hat{y}) - (1-y) \\ln (1-\\hat{y})$\n",
    "\n",
    "In order to calculate the derivative of this error with respect to the weights, we'll first calculate $\\frac{\\partial}{\\partial w_j} \\hat{y}$. Recall that $\\hat{y} = \\sigma(Wx+b)$, so:"
   ],
   "cell_type": "markdown",
   "metadata": {}
  },
  {
   "cell_type": "code",
   "execution_count": null,
   "metadata": {},
   "outputs": [],
   "source": [
    "display.Image('./images/derivative-sigmoid2.gif')"
   ]
  },
  {
   "source": [
    "The last equality is because the only term in the sum which is not a constant with respect to $w_j$ is precisely $w_j x_j$, which clearly has derivative $x_j$.\n",
    "\n",
    "Now, we can go ahead and calculate the derivative of the error $E$ at a point $x$, with respect to the weight $w_j$."
   ],
   "cell_type": "markdown",
   "metadata": {}
  },
  {
   "cell_type": "code",
   "execution_count": null,
   "metadata": {},
   "outputs": [],
   "source": [
    "display.Image('./images/derivative-sigmoid3.png')"
   ]
  },
  {
   "source": [
    "A similar calculation will show us that"
   ],
   "cell_type": "markdown",
   "metadata": {}
  },
  {
   "cell_type": "code",
   "execution_count": null,
   "metadata": {},
   "outputs": [],
   "source": [
    "display.Image('./images/derivative-sigmoid4.png')"
   ]
  },
  {
   "source": [
    "This actually tells us something very important. For a point with coordinates $(x_1, \\ldots, x_n)$, label y and prediction $\\hat{y}$, the gradient of the error function at that point is $\\left(-(y - \\hat{y})x_1, \\cdots, -(y - \\hat{y})x_n, -(y - \\hat{y}) \\right)$. In summary, the gradient is\n",
    "\n",
    "$\\nabla E $ = $-(y - \\hat{y}) (x_1, \\ldots, x_n, 1)$.\n",
    "\n",
    "If you think about it, this is fascinating. The gradient is actually a scalar times the coordinates of the point! And what is the scalar? Nothing less than a multiple of the difference between the label and the prediction. What significance does this have?"
   ],
   "cell_type": "markdown",
   "metadata": {}
  }
 ]
}